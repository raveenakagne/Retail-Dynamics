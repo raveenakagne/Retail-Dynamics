{
  "cells": [
    {
      "cell_type": "markdown",
      "source": [
        "## Importing libraries"
      ],
      "metadata": {
        "collapsed": false,
        "id": "leQkqsd1gOm7"
      }
    },
    {
      "cell_type": "code",
      "execution_count": 1,
      "outputs": [],
      "source": [
        "import pandas as pd\n",
        "import numpy as np\n",
        "import matplotlib.pyplot as plt"
      ],
      "metadata": {
        "pycharm": {
          "name": "#%%\n"
        },
        "id": "BwW52H2-gOm8"
      }
    },
    {
      "cell_type": "markdown",
      "source": [
        "## Loading the data set\n",
        "\n",
        "The data set is assigned to a Pandas data frame.\n",
        "The `BasketDate` is converted from 'str' to 'datetime'."
      ],
      "metadata": {
        "collapsed": false,
        "id": "Y-eGXAn2gOm8"
      }
    },
    {
      "cell_type": "code",
      "execution_count": 2,
      "outputs": [],
      "source": [
        "df = pd.read_csv('/content/online_retail_combined.csv')"
      ],
      "metadata": {
        "pycharm": {
          "name": "#%%\n"
        },
        "id": "0h1YzYJIgOm9"
      }
    },
    {
      "cell_type": "code",
      "source": [
        "# convert dates in a suitable format\n",
        "df['InvoiceDate'] = pd.to_datetime(df['InvoiceDate'], infer_datetime_format=True)\n",
        "\n",
        "# add 'Amount' attribute, useful for some additional features on customer's purchase behaviour\n",
        "df['Amount'] = df['Price'] * df['Quantity']"
      ],
      "metadata": {
        "colab": {
          "base_uri": "https://localhost:8080/"
        },
        "id": "UCTh5Y8FtLnh",
        "outputId": "8790614d-0c7f-498b-aad4-a39df7ea1dcc"
      },
      "execution_count": 4,
      "outputs": [
        {
          "output_type": "stream",
          "name": "stderr",
          "text": [
            "<ipython-input-4-44855cc0534b>:2: UserWarning: The argument 'infer_datetime_format' is deprecated and will be removed in a future version. A strict version of it is now the default, see https://pandas.pydata.org/pdeps/0004-consistent-to-datetime-parsing.html. You can safely remove this argument.\n",
            "  df['InvoiceDate'] = pd.to_datetime(df['InvoiceDate'], infer_datetime_format=True)\n"
          ]
        }
      ]
    },
    {
      "cell_type": "markdown",
      "source": [
        "# Types of attributes and null values\n",
        "\n",
        "Description of the dataset"
      ],
      "metadata": {
        "collapsed": false,
        "id": "IKKd1xXtgOm9"
      }
    },
    {
      "cell_type": "code",
      "execution_count": 5,
      "outputs": [
        {
          "output_type": "stream",
          "name": "stdout",
          "text": [
            "<class 'pandas.core.frame.DataFrame'>\n",
            "RangeIndex: 1067371 entries, 0 to 1067370\n",
            "Data columns (total 9 columns):\n",
            " #   Column       Non-Null Count    Dtype         \n",
            "---  ------       --------------    -----         \n",
            " 0   Invoice      1067371 non-null  object        \n",
            " 1   StockCode    1067371 non-null  object        \n",
            " 2   Description  1062989 non-null  object        \n",
            " 3   Quantity     1067371 non-null  int64         \n",
            " 4   InvoiceDate  1067371 non-null  datetime64[ns]\n",
            " 5   Price        1067371 non-null  float64       \n",
            " 6   Customer ID  824364 non-null   float64       \n",
            " 7   Country      1067371 non-null  object        \n",
            " 8   Amount       1067371 non-null  float64       \n",
            "dtypes: datetime64[ns](1), float64(3), int64(1), object(4)\n",
            "memory usage: 73.3+ MB\n"
          ]
        }
      ],
      "source": [
        "df.info()"
      ],
      "metadata": {
        "pycharm": {
          "name": "#%%\n"
        },
        "colab": {
          "base_uri": "https://localhost:8080/"
        },
        "id": "9Y0HGChigOm9",
        "outputId": "35f0a3a1-3940-4d42-d67c-d5296146c73b"
      }
    },
    {
      "cell_type": "markdown",
      "source": [
        "Count of null values, for each attribute"
      ],
      "metadata": {
        "collapsed": false,
        "id": "TaPxjlmlgOm9"
      }
    },
    {
      "cell_type": "code",
      "execution_count": 6,
      "outputs": [
        {
          "output_type": "execute_result",
          "data": {
            "text/plain": [
              "Invoice             0\n",
              "StockCode           0\n",
              "Description      4382\n",
              "Quantity            0\n",
              "InvoiceDate         0\n",
              "Price               0\n",
              "Customer ID    243007\n",
              "Country             0\n",
              "Amount              0\n",
              "dtype: int64"
            ],
            "text/html": [
              "<div>\n",
              "<style scoped>\n",
              "    .dataframe tbody tr th:only-of-type {\n",
              "        vertical-align: middle;\n",
              "    }\n",
              "\n",
              "    .dataframe tbody tr th {\n",
              "        vertical-align: top;\n",
              "    }\n",
              "\n",
              "    .dataframe thead th {\n",
              "        text-align: right;\n",
              "    }\n",
              "</style>\n",
              "<table border=\"1\" class=\"dataframe\">\n",
              "  <thead>\n",
              "    <tr style=\"text-align: right;\">\n",
              "      <th></th>\n",
              "      <th>0</th>\n",
              "    </tr>\n",
              "  </thead>\n",
              "  <tbody>\n",
              "    <tr>\n",
              "      <th>Invoice</th>\n",
              "      <td>0</td>\n",
              "    </tr>\n",
              "    <tr>\n",
              "      <th>StockCode</th>\n",
              "      <td>0</td>\n",
              "    </tr>\n",
              "    <tr>\n",
              "      <th>Description</th>\n",
              "      <td>4382</td>\n",
              "    </tr>\n",
              "    <tr>\n",
              "      <th>Quantity</th>\n",
              "      <td>0</td>\n",
              "    </tr>\n",
              "    <tr>\n",
              "      <th>InvoiceDate</th>\n",
              "      <td>0</td>\n",
              "    </tr>\n",
              "    <tr>\n",
              "      <th>Price</th>\n",
              "      <td>0</td>\n",
              "    </tr>\n",
              "    <tr>\n",
              "      <th>Customer ID</th>\n",
              "      <td>243007</td>\n",
              "    </tr>\n",
              "    <tr>\n",
              "      <th>Country</th>\n",
              "      <td>0</td>\n",
              "    </tr>\n",
              "    <tr>\n",
              "      <th>Amount</th>\n",
              "      <td>0</td>\n",
              "    </tr>\n",
              "  </tbody>\n",
              "</table>\n",
              "</div><br><label><b>dtype:</b> int64</label>"
            ]
          },
          "metadata": {},
          "execution_count": 6
        }
      ],
      "source": [
        "df.isnull().sum(axis = 0)"
      ],
      "metadata": {
        "pycharm": {
          "name": "#%%\n"
        },
        "colab": {
          "base_uri": "https://localhost:8080/",
          "height": 366
        },
        "id": "XJrpwjh6gOm9",
        "outputId": "1cd78104-9739-4baa-feed-4b7300574660"
      }
    },
    {
      "cell_type": "markdown",
      "source": [
        "All the `Description` missing values are already included in the `Customer ID` ones.\n",
        "In fact, if we count all the rows where both the attributes are null:"
      ],
      "metadata": {
        "collapsed": false,
        "id": "2GYxPnqRgOm-"
      }
    },
    {
      "cell_type": "code",
      "execution_count": 7,
      "outputs": [
        {
          "output_type": "execute_result",
          "data": {
            "text/plain": [
              "Invoice        4382\n",
              "StockCode      4382\n",
              "Description       0\n",
              "Quantity       4382\n",
              "InvoiceDate    4382\n",
              "Price          4382\n",
              "Customer ID       0\n",
              "Country        4382\n",
              "Amount         4382\n",
              "dtype: int64"
            ],
            "text/html": [
              "<div>\n",
              "<style scoped>\n",
              "    .dataframe tbody tr th:only-of-type {\n",
              "        vertical-align: middle;\n",
              "    }\n",
              "\n",
              "    .dataframe tbody tr th {\n",
              "        vertical-align: top;\n",
              "    }\n",
              "\n",
              "    .dataframe thead th {\n",
              "        text-align: right;\n",
              "    }\n",
              "</style>\n",
              "<table border=\"1\" class=\"dataframe\">\n",
              "  <thead>\n",
              "    <tr style=\"text-align: right;\">\n",
              "      <th></th>\n",
              "      <th>0</th>\n",
              "    </tr>\n",
              "  </thead>\n",
              "  <tbody>\n",
              "    <tr>\n",
              "      <th>Invoice</th>\n",
              "      <td>4382</td>\n",
              "    </tr>\n",
              "    <tr>\n",
              "      <th>StockCode</th>\n",
              "      <td>4382</td>\n",
              "    </tr>\n",
              "    <tr>\n",
              "      <th>Description</th>\n",
              "      <td>0</td>\n",
              "    </tr>\n",
              "    <tr>\n",
              "      <th>Quantity</th>\n",
              "      <td>4382</td>\n",
              "    </tr>\n",
              "    <tr>\n",
              "      <th>InvoiceDate</th>\n",
              "      <td>4382</td>\n",
              "    </tr>\n",
              "    <tr>\n",
              "      <th>Price</th>\n",
              "      <td>4382</td>\n",
              "    </tr>\n",
              "    <tr>\n",
              "      <th>Customer ID</th>\n",
              "      <td>0</td>\n",
              "    </tr>\n",
              "    <tr>\n",
              "      <th>Country</th>\n",
              "      <td>4382</td>\n",
              "    </tr>\n",
              "    <tr>\n",
              "      <th>Amount</th>\n",
              "      <td>4382</td>\n",
              "    </tr>\n",
              "  </tbody>\n",
              "</table>\n",
              "</div><br><label><b>dtype:</b> int64</label>"
            ]
          },
          "metadata": {},
          "execution_count": 7
        }
      ],
      "source": [
        "df[df['Customer ID'].isnull() & df['Description'].isnull()].count()"
      ],
      "metadata": {
        "pycharm": {
          "name": "#%%\n"
        },
        "colab": {
          "base_uri": "https://localhost:8080/",
          "height": 366
        },
        "id": "NuRiucNFgOm-",
        "outputId": "43f09c7e-34df-4f7e-f03e-e86bf39f128f"
      }
    },
    {
      "cell_type": "markdown",
      "source": [
        "## Analysis of single attributes\n",
        "### Invoice\n",
        "Count number of distinct baskets"
      ],
      "metadata": {
        "collapsed": false,
        "id": "tukkv2TRgOm-"
      }
    },
    {
      "cell_type": "code",
      "execution_count": 8,
      "outputs": [
        {
          "output_type": "execute_result",
          "data": {
            "text/plain": [
              "count    53628.000000\n",
              "mean        19.903241\n",
              "std         41.252573\n",
              "min          1.000000\n",
              "25%          2.000000\n",
              "50%          9.000000\n",
              "75%         23.000000\n",
              "max       1350.000000\n",
              "Name: count, dtype: float64"
            ],
            "text/html": [
              "<div>\n",
              "<style scoped>\n",
              "    .dataframe tbody tr th:only-of-type {\n",
              "        vertical-align: middle;\n",
              "    }\n",
              "\n",
              "    .dataframe tbody tr th {\n",
              "        vertical-align: top;\n",
              "    }\n",
              "\n",
              "    .dataframe thead th {\n",
              "        text-align: right;\n",
              "    }\n",
              "</style>\n",
              "<table border=\"1\" class=\"dataframe\">\n",
              "  <thead>\n",
              "    <tr style=\"text-align: right;\">\n",
              "      <th></th>\n",
              "      <th>count</th>\n",
              "    </tr>\n",
              "  </thead>\n",
              "  <tbody>\n",
              "    <tr>\n",
              "      <th>count</th>\n",
              "      <td>53628.000000</td>\n",
              "    </tr>\n",
              "    <tr>\n",
              "      <th>mean</th>\n",
              "      <td>19.903241</td>\n",
              "    </tr>\n",
              "    <tr>\n",
              "      <th>std</th>\n",
              "      <td>41.252573</td>\n",
              "    </tr>\n",
              "    <tr>\n",
              "      <th>min</th>\n",
              "      <td>1.000000</td>\n",
              "    </tr>\n",
              "    <tr>\n",
              "      <th>25%</th>\n",
              "      <td>2.000000</td>\n",
              "    </tr>\n",
              "    <tr>\n",
              "      <th>50%</th>\n",
              "      <td>9.000000</td>\n",
              "    </tr>\n",
              "    <tr>\n",
              "      <th>75%</th>\n",
              "      <td>23.000000</td>\n",
              "    </tr>\n",
              "    <tr>\n",
              "      <th>max</th>\n",
              "      <td>1350.000000</td>\n",
              "    </tr>\n",
              "  </tbody>\n",
              "</table>\n",
              "</div><br><label><b>dtype:</b> float64</label>"
            ]
          },
          "metadata": {},
          "execution_count": 8
        }
      ],
      "source": [
        "bid_counts = df['Invoice'].value_counts()\n",
        "bid_counts.describe()"
      ],
      "metadata": {
        "pycharm": {
          "name": "#%%\n"
        },
        "colab": {
          "base_uri": "https://localhost:8080/",
          "height": 335
        },
        "id": "e_m-EM7bgOm-",
        "outputId": "3aa01910-bbaf-420d-aa4f-d22632826961"
      }
    },
    {
      "cell_type": "markdown",
      "source": [
        "### Price, Quantity\n",
        "\n",
        "We noticed there are 6206 price with null cost and 22950 with negative quantity."
      ],
      "metadata": {
        "collapsed": false,
        "id": "7u8GiJuUgOm-"
      }
    },
    {
      "cell_type": "code",
      "execution_count": 9,
      "outputs": [
        {
          "output_type": "execute_result",
          "data": {
            "text/plain": [
              "Invoice        6202\n",
              "StockCode      6202\n",
              "Description    1820\n",
              "Quantity       6202\n",
              "InvoiceDate    6202\n",
              "Price          6202\n",
              "Customer ID      71\n",
              "Country        6202\n",
              "Amount         6202\n",
              "dtype: int64"
            ],
            "text/html": [
              "<div>\n",
              "<style scoped>\n",
              "    .dataframe tbody tr th:only-of-type {\n",
              "        vertical-align: middle;\n",
              "    }\n",
              "\n",
              "    .dataframe tbody tr th {\n",
              "        vertical-align: top;\n",
              "    }\n",
              "\n",
              "    .dataframe thead th {\n",
              "        text-align: right;\n",
              "    }\n",
              "</style>\n",
              "<table border=\"1\" class=\"dataframe\">\n",
              "  <thead>\n",
              "    <tr style=\"text-align: right;\">\n",
              "      <th></th>\n",
              "      <th>0</th>\n",
              "    </tr>\n",
              "  </thead>\n",
              "  <tbody>\n",
              "    <tr>\n",
              "      <th>Invoice</th>\n",
              "      <td>6202</td>\n",
              "    </tr>\n",
              "    <tr>\n",
              "      <th>StockCode</th>\n",
              "      <td>6202</td>\n",
              "    </tr>\n",
              "    <tr>\n",
              "      <th>Description</th>\n",
              "      <td>1820</td>\n",
              "    </tr>\n",
              "    <tr>\n",
              "      <th>Quantity</th>\n",
              "      <td>6202</td>\n",
              "    </tr>\n",
              "    <tr>\n",
              "      <th>InvoiceDate</th>\n",
              "      <td>6202</td>\n",
              "    </tr>\n",
              "    <tr>\n",
              "      <th>Price</th>\n",
              "      <td>6202</td>\n",
              "    </tr>\n",
              "    <tr>\n",
              "      <th>Customer ID</th>\n",
              "      <td>71</td>\n",
              "    </tr>\n",
              "    <tr>\n",
              "      <th>Country</th>\n",
              "      <td>6202</td>\n",
              "    </tr>\n",
              "    <tr>\n",
              "      <th>Amount</th>\n",
              "      <td>6202</td>\n",
              "    </tr>\n",
              "  </tbody>\n",
              "</table>\n",
              "</div><br><label><b>dtype:</b> int64</label>"
            ]
          },
          "metadata": {},
          "execution_count": 9
        }
      ],
      "source": [
        "# rows with null cost\n",
        "cost_zero = df['Price'] == 0\n",
        "df[cost_zero].count()"
      ],
      "metadata": {
        "pycharm": {
          "name": "#%%\n"
        },
        "colab": {
          "base_uri": "https://localhost:8080/",
          "height": 366
        },
        "id": "oIYDdewqgOm_",
        "outputId": "4179b2e7-c710-4db4-aa36-630062a1f1c8"
      }
    },
    {
      "cell_type": "code",
      "execution_count": 10,
      "outputs": [
        {
          "output_type": "execute_result",
          "data": {
            "text/plain": [
              "Invoice        22950\n",
              "StockCode      22950\n",
              "Description    20261\n",
              "Quantity       22950\n",
              "InvoiceDate    22950\n",
              "Price          22950\n",
              "Customer ID    18744\n",
              "Country        22950\n",
              "Amount         22950\n",
              "dtype: int64"
            ],
            "text/html": [
              "<div>\n",
              "<style scoped>\n",
              "    .dataframe tbody tr th:only-of-type {\n",
              "        vertical-align: middle;\n",
              "    }\n",
              "\n",
              "    .dataframe tbody tr th {\n",
              "        vertical-align: top;\n",
              "    }\n",
              "\n",
              "    .dataframe thead th {\n",
              "        text-align: right;\n",
              "    }\n",
              "</style>\n",
              "<table border=\"1\" class=\"dataframe\">\n",
              "  <thead>\n",
              "    <tr style=\"text-align: right;\">\n",
              "      <th></th>\n",
              "      <th>0</th>\n",
              "    </tr>\n",
              "  </thead>\n",
              "  <tbody>\n",
              "    <tr>\n",
              "      <th>Invoice</th>\n",
              "      <td>22950</td>\n",
              "    </tr>\n",
              "    <tr>\n",
              "      <th>StockCode</th>\n",
              "      <td>22950</td>\n",
              "    </tr>\n",
              "    <tr>\n",
              "      <th>Description</th>\n",
              "      <td>20261</td>\n",
              "    </tr>\n",
              "    <tr>\n",
              "      <th>Quantity</th>\n",
              "      <td>22950</td>\n",
              "    </tr>\n",
              "    <tr>\n",
              "      <th>InvoiceDate</th>\n",
              "      <td>22950</td>\n",
              "    </tr>\n",
              "    <tr>\n",
              "      <th>Price</th>\n",
              "      <td>22950</td>\n",
              "    </tr>\n",
              "    <tr>\n",
              "      <th>Customer ID</th>\n",
              "      <td>18744</td>\n",
              "    </tr>\n",
              "    <tr>\n",
              "      <th>Country</th>\n",
              "      <td>22950</td>\n",
              "    </tr>\n",
              "    <tr>\n",
              "      <th>Amount</th>\n",
              "      <td>22950</td>\n",
              "    </tr>\n",
              "  </tbody>\n",
              "</table>\n",
              "</div><br><label><b>dtype:</b> int64</label>"
            ]
          },
          "metadata": {},
          "execution_count": 10
        }
      ],
      "source": [
        "# rows with negative qta\n",
        "neg_qta = df['Quantity'] < 0\n",
        "df[neg_qta].count()"
      ],
      "metadata": {
        "pycharm": {
          "name": "#%%\n"
        },
        "colab": {
          "base_uri": "https://localhost:8080/",
          "height": 366
        },
        "id": "CnldRNh2gOm_",
        "outputId": "76350544-3138-4097-9df5-392b8a354bc2"
      }
    },
    {
      "cell_type": "code",
      "execution_count": 11,
      "outputs": [
        {
          "output_type": "execute_result",
          "data": {
            "text/plain": [
              "Invoice        3457\n",
              "StockCode      3457\n",
              "Description     768\n",
              "Quantity       3457\n",
              "InvoiceDate    3457\n",
              "Price          3457\n",
              "Customer ID       0\n",
              "Country        3457\n",
              "Amount         3457\n",
              "dtype: int64"
            ],
            "text/html": [
              "<div>\n",
              "<style scoped>\n",
              "    .dataframe tbody tr th:only-of-type {\n",
              "        vertical-align: middle;\n",
              "    }\n",
              "\n",
              "    .dataframe tbody tr th {\n",
              "        vertical-align: top;\n",
              "    }\n",
              "\n",
              "    .dataframe thead th {\n",
              "        text-align: right;\n",
              "    }\n",
              "</style>\n",
              "<table border=\"1\" class=\"dataframe\">\n",
              "  <thead>\n",
              "    <tr style=\"text-align: right;\">\n",
              "      <th></th>\n",
              "      <th>0</th>\n",
              "    </tr>\n",
              "  </thead>\n",
              "  <tbody>\n",
              "    <tr>\n",
              "      <th>Invoice</th>\n",
              "      <td>3457</td>\n",
              "    </tr>\n",
              "    <tr>\n",
              "      <th>StockCode</th>\n",
              "      <td>3457</td>\n",
              "    </tr>\n",
              "    <tr>\n",
              "      <th>Description</th>\n",
              "      <td>768</td>\n",
              "    </tr>\n",
              "    <tr>\n",
              "      <th>Quantity</th>\n",
              "      <td>3457</td>\n",
              "    </tr>\n",
              "    <tr>\n",
              "      <th>InvoiceDate</th>\n",
              "      <td>3457</td>\n",
              "    </tr>\n",
              "    <tr>\n",
              "      <th>Price</th>\n",
              "      <td>3457</td>\n",
              "    </tr>\n",
              "    <tr>\n",
              "      <th>Customer ID</th>\n",
              "      <td>0</td>\n",
              "    </tr>\n",
              "    <tr>\n",
              "      <th>Country</th>\n",
              "      <td>3457</td>\n",
              "    </tr>\n",
              "    <tr>\n",
              "      <th>Amount</th>\n",
              "      <td>3457</td>\n",
              "    </tr>\n",
              "  </tbody>\n",
              "</table>\n",
              "</div><br><label><b>dtype:</b> int64</label>"
            ]
          },
          "metadata": {},
          "execution_count": 11
        }
      ],
      "source": [
        "df[cost_zero & neg_qta].count()"
      ],
      "metadata": {
        "pycharm": {
          "name": "#%%\n"
        },
        "colab": {
          "base_uri": "https://localhost:8080/",
          "height": 366
        },
        "id": "et3TJ13igOm_",
        "outputId": "c6610b9d-df62-48f5-e68e-7a19f1a1cf38"
      }
    },
    {
      "cell_type": "markdown",
      "source": [
        "We decided to drop these transactions, because they're not relevant for our purposes."
      ],
      "metadata": {
        "collapsed": false,
        "id": "KA1yUWPUgOm_"
      }
    },
    {
      "cell_type": "code",
      "execution_count": 12,
      "outputs": [
        {
          "output_type": "stream",
          "name": "stderr",
          "text": [
            "<ipython-input-12-83e31341dde6>:4: UserWarning: Boolean Series key will be reindexed to match DataFrame index.\n",
            "  df.drop(df[cost_zero].index, inplace=True)\n"
          ]
        }
      ],
      "source": [
        "# drop rows with negative quantity\n",
        "df.drop(df[neg_qta].index, inplace=True)\n",
        "# drop rows with null cost\n",
        "df.drop(df[cost_zero].index, inplace=True)"
      ],
      "metadata": {
        "pycharm": {
          "name": "#%%\n"
        },
        "colab": {
          "base_uri": "https://localhost:8080/"
        },
        "id": "qEy5-nZRgOm_",
        "outputId": "c249579e-27cf-49cb-af6a-415df39a0124"
      }
    },
    {
      "cell_type": "markdown",
      "source": [
        "### InvoiceDate\n",
        "\n",
        "Some statistics on the dates."
      ],
      "metadata": {
        "collapsed": false,
        "id": "SgCUhEhsgOm_"
      }
    },
    {
      "cell_type": "code",
      "execution_count": 13,
      "outputs": [
        {
          "output_type": "stream",
          "name": "stdout",
          "text": [
            "Min date: 2009-12-01 07:45:00\n",
            "Max date: 2011-12-09 12:50:00\n",
            "Day with more sales: 2010-12-06\n",
            "Day with less sales: 2010-12-22\n"
          ]
        }
      ],
      "source": [
        "bd_counts = df['InvoiceDate'].dt.date.value_counts()\n",
        "print(\"Min date:\", str(min(df['InvoiceDate'])))\n",
        "print(\"Max date:\", str(max(df['InvoiceDate'])))\n",
        "print(\"Day with more sales:\", str(bd_counts.index[0]))\n",
        "print(\"Day with less sales:\", str(bd_counts.index[-1]))"
      ],
      "metadata": {
        "pycharm": {
          "name": "#%%\n"
        },
        "colab": {
          "base_uri": "https://localhost:8080/"
        },
        "id": "wMxot7o-gOm_",
        "outputId": "3567780a-d602-4490-da2f-a706e80cf961"
      }
    },
    {
      "cell_type": "code",
      "execution_count": 14,
      "outputs": [
        {
          "output_type": "stream",
          "name": "stderr",
          "text": [
            "<ipython-input-14-6baaa1c9beb7>:1: FutureWarning: 'M' is deprecated and will be removed in a future version, please use 'ME' instead.\n",
            "  a = df.groupby(pd.Grouper(key='InvoiceDate', freq='M'))['Invoice'].count()\n"
          ]
        },
        {
          "output_type": "execute_result",
          "data": {
            "text/plain": [
              "[]"
            ]
          },
          "metadata": {},
          "execution_count": 14
        },
        {
          "output_type": "display_data",
          "data": {
            "text/plain": [
              "<Figure size 640x480 with 1 Axes>"
            ],
            "image/png": "[encoded data removed]"
          },
          "metadata": {}
        }
      ],
      "source": [
        "a = df.groupby(pd.Grouper(key='InvoiceDate', freq='M'))['Invoice'].count()\n",
        "a.index = a.index.strftime('%b %Y')\n",
        "aplt = a.plot(kind='bar', title='Number of transactions per month', rot=45)\n",
        "\n",
        "aplt.set_ylabel('Transactions')\n",
        "aplt.plot()"
      ],
      "metadata": {
        "pycharm": {
          "name": "#%%\n"
        },
        "colab": {
          "base_uri": "https://localhost:8080/",
          "height": 590
        },
        "id": "jeeJTG8rgOnA",
        "outputId": "a130105c-e078-4c79-dbe8-ce980c8aeef5"
      }
    },
    {
      "cell_type": "markdown",
      "source": [
        "### Customer ID\n",
        "How many transactions each customer made?"
      ],
      "metadata": {
        "collapsed": false,
        "id": "5htxgBd5gOnA"
      }
    },
    {
      "cell_type": "code",
      "execution_count": 15,
      "outputs": [
        {
          "output_type": "stream",
          "name": "stdout",
          "text": [
            "count     5878.000000\n",
            "mean       137.044743\n",
            "std        353.818629\n",
            "min          1.000000\n",
            "25%         21.000000\n",
            "50%         53.000000\n",
            "75%        142.000000\n",
            "max      12890.000000\n",
            "Name: count, dtype: float64\n"
          ]
        },
        {
          "output_type": "execute_result",
          "data": {
            "text/plain": [
              "Text(0, 0.5, 'Transactions')"
            ]
          },
          "metadata": {},
          "execution_count": 15
        },
        {
          "output_type": "display_data",
          "data": {
            "text/plain": [
              "<Figure size 640x480 with 1 Axes>"
            ],
            "image/png": "[encoded data removed]"
          },
          "metadata": {}
        }
      ],
      "source": [
        "cid_counts = df['Customer ID'].value_counts()\n",
        "print(cid_counts.describe())\n",
        "cidplot = cid_counts.plot.box()\n",
        "cidplot.set_ylabel(\"Transactions\")"
      ],
      "metadata": {
        "pycharm": {
          "name": "#%%\n"
        },
        "colab": {
          "base_uri": "https://localhost:8080/",
          "height": 609
        },
        "id": "0uie_Tn0gOnA",
        "outputId": "e743959b-39e3-4422-a2e5-836f0527fe64"
      }
    },
    {
      "cell_type": "markdown",
      "source": [
        "As seen before, we have 65080 null values for this attribute.\n",
        "We removed transactions with null `CustomerID`."
      ],
      "metadata": {
        "collapsed": false,
        "id": "YOi2Am3SgOnA"
      }
    },
    {
      "cell_type": "code",
      "execution_count": 16,
      "outputs": [],
      "source": [
        "# drop rows with null customerID\n",
        "df.dropna(subset=['Customer ID'], inplace=True)\n",
        "\n",
        "# export cleaned dataset for further analysis\n",
        "df.to_csv(r'/content/clean_df.csv', index=True, header=True)\n"
      ],
      "metadata": {
        "pycharm": {
          "name": "#%%\n"
        },
        "id": "gRNnAUEWgOnA"
      }
    },
    {
      "cell_type": "markdown",
      "source": [
        "#### CustomerCountry"
      ],
      "metadata": {
        "collapsed": false,
        "id": "4jiXkFC3gOnA"
      }
    },
    {
      "cell_type": "code",
      "execution_count": 17,
      "outputs": [
        {
          "output_type": "execute_result",
          "data": {
            "text/plain": [
              "<Axes: xlabel='Country'>"
            ]
          },
          "metadata": {},
          "execution_count": 17
        },
        {
          "output_type": "display_data",
          "data": {
            "text/plain": [
              "<Figure size 640x480 with 1 Axes>"
            ],
            "image/png": "[encoded data removed]"
          },
          "metadata": {}
        }
      ],
      "source": [
        "cc_counts = df.groupby(['Country', 'Customer ID']).size().groupby(level=0).size()\n",
        "cc_counts.plot.bar()"
      ],
      "metadata": {
        "pycharm": {
          "name": "#%%\n"
        },
        "colab": {
          "base_uri": "https://localhost:8080/",
          "height": 604
        },
        "id": "gMIaUeGTgOnA",
        "outputId": "2468936d-c4a8-475f-8e8a-0d6e955137ef"
      }
    },
    {
      "cell_type": "markdown",
      "source": [
        "### StockCode, Description"
      ],
      "metadata": {
        "collapsed": false,
        "id": "e5b9OdGjgOnA"
      }
    },
    {
      "cell_type": "code",
      "execution_count": 18,
      "outputs": [
        {
          "output_type": "stream",
          "name": "stdout",
          "text": [
            "count    4631.000000\n",
            "mean      173.947096\n",
            "std       293.319105\n",
            "min         1.000000\n",
            "25%        19.000000\n",
            "50%        68.000000\n",
            "75%       198.000000\n",
            "max      5188.000000\n",
            "Name: count, dtype: float64\n",
            "Best seller: 85123A (WHITE HANGING HEART T-LIGHT HOLDER)\n",
            "Worst seller: 90025B (BAROQUE BUTTERFLY EARRINGS RED)\n"
          ]
        }
      ],
      "source": [
        "pid_counts = df['StockCode'].value_counts()\n",
        "print(pid_counts.describe())\n",
        "\n",
        "best_seller_id = pid_counts.index[0]\n",
        "best_seller_descr = df.loc[df['StockCode'] == best_seller_id]['Description'].iloc[0]\n",
        "print(\"Best seller: {} ({})\".format(str(best_seller_id), str(best_seller_descr)))\n",
        "\n",
        "worst_seller_id = pid_counts.index[-1]\n",
        "worst_seller_descr = df.loc[df['StockCode'] == worst_seller_id]['Description'].iloc[0]\n",
        "print(\"Worst seller: {} ({})\".format(str(worst_seller_id), str(worst_seller_descr)))"
      ],
      "metadata": {
        "pycharm": {
          "name": "#%%\n"
        },
        "colab": {
          "base_uri": "https://localhost:8080/"
        },
        "id": "E8rP5Q-0gOnA",
        "outputId": "ed1ac69d-61fd-4723-ef30-46c8ffcc91aa"
      }
    },
    {
      "cell_type": "markdown",
      "source": [
        "## Correlation\n",
        "\n",
        "To calculate pairwise correlation, we transformed some attributes into categorical ones. Due to implementation reasons,\n",
        "`ProdDescr` had to be treated differently from other attributes.\n",
        "For this reason, we introduced a dictionary: for each string (key) we assigned an incremental identifier (value)."
      ],
      "metadata": {
        "collapsed": false,
        "id": "jFFL1gYIgOnA"
      }
    },
    {
      "cell_type": "code",
      "execution_count": 19,
      "outputs": [],
      "source": [
        "df_corr = df.copy()\n",
        "\n",
        "df_corr['StockCode'] = df_corr['StockCode'].astype('category').cat.codes\n",
        "df_corr.sort_values(by=['StockCode'], inplace=True)\n",
        "obj = {}\n",
        "idx = 0\n",
        "s = \"\"\n",
        "for index, row in df_corr.iterrows():\n",
        "    if row['Description'] != s:\n",
        "        s = row['Description']\n",
        "        obj[s] = idx\n",
        "        idx += 1"
      ],
      "metadata": {
        "pycharm": {
          "name": "#%%\n"
        },
        "id": "xFmYtOpLgOnA"
      }
    },
    {
      "cell_type": "markdown",
      "source": [
        "Then we replaced all the descriptions with their associated identifier and this way we proceeded to calculate the\n",
        "pairwise correlation, represented by a heatmap."
      ],
      "metadata": {
        "collapsed": false,
        "id": "ofdbMUtygOnA"
      }
    },
    {
      "cell_type": "code",
      "execution_count": 20,
      "outputs": [
        {
          "output_type": "stream",
          "name": "stderr",
          "text": [
            "<ipython-input-20-202348e3c745>:1: FutureWarning: A value is trying to be set on a copy of a DataFrame or Series through chained assignment using an inplace method.\n",
            "The behavior will change in pandas 3.0. This inplace method will never work because the intermediate object on which we are setting values always behaves as a copy.\n",
            "\n",
            "For example, when doing 'df[col].method(value, inplace=True)', try using 'df.method({col: value}, inplace=True)' or df[col] = df[col].method(value) instead, to perform the operation inplace on the original object.\n",
            "\n",
            "\n",
            "  df_corr['Description'].replace(obj, inplace=True)\n",
            "<ipython-input-20-202348e3c745>:1: FutureWarning: Downcasting behavior in `replace` is deprecated and will be removed in a future version. To retain the old behavior, explicitly call `result.infer_objects(copy=False)`. To opt-in to the future behavior, set `pd.set_option('future.no_silent_downcasting', True)`\n",
            "  df_corr['Description'].replace(obj, inplace=True)\n"
          ]
        }
      ],
      "source": [
        "df_corr['Description'].replace(obj, inplace=True)\n",
        "\n",
        "df_corr['Invoice'] = df_corr['Invoice'].astype('category').cat.codes\n",
        "df_corr['InvoiceDate'] = df_corr['InvoiceDate'].astype('category').cat.codes\n",
        "df_corr['Customer ID'] = df_corr['Customer ID'].astype('category').cat.codes\n",
        "df_corr['Country'] = df_corr['Country'].astype('category').cat.codes"
      ],
      "metadata": {
        "pycharm": {
          "name": "#%%\n"
        },
        "colab": {
          "base_uri": "https://localhost:8080/"
        },
        "id": "w3YoJInzgOnB",
        "outputId": "68d644e0-0ec8-4ac2-e41f-2c0656843851"
      }
    },
    {
      "cell_type": "code",
      "execution_count": 22,
      "outputs": [
        {
          "output_type": "execute_result",
          "data": {
            "text/plain": [
              "<Axes: >"
            ]
          },
          "metadata": {},
          "execution_count": 22
        },
        {
          "output_type": "display_data",
          "data": {
            "text/plain": [
              "<Figure size 900x900 with 2 Axes>"
            ],
            "image/png": "[encoded data removed]"
          },
          "metadata": {}
        }
      ],
      "source": [
        "import seaborn as sns\n",
        "\n",
        "correlation = df_corr.corr()\n",
        "sns.set(style=\"white\")\n",
        "\n",
        "# Generate a mask for the upper triangle\n",
        "mask = np.zeros_like(correlation, dtype=np.bool_)\n",
        "mask[np.triu_indices_from(mask)] = True\n",
        "\n",
        "# Set up the matplotlib figure\n",
        "f, ax = plt.subplots(figsize=(9,9))\n",
        "\n",
        "# Generate a custom diverging colormap\n",
        "cmap = sns.diverging_palette(220, 10, as_cmap=True)\n",
        "\n",
        "# Draw the heatmap with the mask and correct aspect ratio\n",
        "sns.heatmap(correlation, mask=mask, cmap=cmap,annot=True, vmax=1,vmin=-1,\n",
        "            center=0, square=True, linewidths=0.5, cbar_kws={\"shrink\": 0.5})"
      ],
      "metadata": {
        "pycharm": {
          "name": "#%%\n"
        },
        "colab": {
          "base_uri": "https://localhost:8080/",
          "height": 721
        },
        "id": "n-bNZPr2gOnB",
        "outputId": "110aa11e-9392-4132-9849-e929137edc98"
      }
    },
    {
      "cell_type": "markdown",
      "source": [
        "## Requested features\n",
        "I, Iu, Imax"
      ],
      "metadata": {
        "collapsed": false,
        "id": "yPxpb8BngOnB"
      }
    },
    {
      "cell_type": "code",
      "execution_count": 24,
      "outputs": [],
      "source": [
        "df_customer = df.groupby('Customer ID').agg(\n",
        "    I=('StockCode','count'),\n",
        "    Iu=('StockCode', 'nunique'))\n",
        "\n",
        "# Group by Customer ID and Invoice, count the InvoiceDate for each group, then get the maximum count per Customer ID\n",
        "df_customer['Imax'] = df.groupby(['Customer ID', 'Invoice'])['InvoiceDate'].count().groupby(level=0).max()"
      ],
      "metadata": {
        "pycharm": {
          "name": "#%%\n"
        },
        "id": "b2EJcG0NgOnB"
      }
    },
    {
      "cell_type": "markdown",
      "source": [
        "Entropy"
      ],
      "metadata": {
        "collapsed": false,
        "id": "B-AhxglcgOnB"
      }
    },
    {
      "cell_type": "code",
      "execution_count": 25,
      "outputs": [],
      "source": [
        "pos_amounts = df[df['Amount'] >= 0].copy()\n",
        "p_sum = pos_amounts.groupby('Customer ID')['Amount'].transform('sum')\n",
        "probs = pos_amounts['Amount']/p_sum\n",
        "pos_amounts['Entropy'] = -(probs * np.log(probs)) #ss.entropy(probs)\n",
        "df_customer['Entropy'] = pos_amounts.groupby('Customer ID')['Entropy'].sum()"
      ],
      "metadata": {
        "pycharm": {
          "name": "#%%\n"
        },
        "id": "3bZghKhLgOnB"
      }
    },
    {
      "cell_type": "markdown",
      "source": [
        "## New features\n",
        "\n",
        "Number of Baskets per customer."
      ],
      "metadata": {
        "collapsed": false,
        "id": "JaYBSpXXgOnB"
      }
    },
    {
      "cell_type": "code",
      "execution_count": 26,
      "outputs": [],
      "source": [
        "# number of baskets per customer\n",
        "df_customer['BasketNum'] = df.groupby(['Customer ID', 'Invoice']).size().groupby(level=0).size()"
      ],
      "metadata": {
        "pycharm": {
          "name": "#%%\n"
        },
        "id": "V4ddg2qRgOnG"
      }
    },
    {
      "cell_type": "markdown",
      "source": [
        "Sum and Average expenditure for each customer."
      ],
      "metadata": {
        "collapsed": false,
        "id": "PagzYJhvgOnG"
      }
    },
    {
      "cell_type": "code",
      "execution_count": 27,
      "outputs": [],
      "source": [
        "df_group = df.groupby(['Customer ID','Invoice']).agg(BasketSum=('Amount', 'sum'))\n",
        "df_group = df_group.groupby('Customer ID').agg(BasketMean=('BasketSum', 'mean'), SumExp=('BasketSum', 'sum'))\n",
        "df_customer['SumExp'] = df_group['SumExp']\n",
        "df_customer['AvgExp'] = df_group['BasketMean']"
      ],
      "metadata": {
        "pycharm": {
          "name": "#%%\n"
        },
        "id": "JGSNUJjdgOnG"
      }
    },
    {
      "cell_type": "markdown",
      "source": [
        "## Analysis of new dataset\n",
        "Combining the required features with the new ones,\n",
        "we have created a new dataset, useful for subsequent clustering tasks"
      ],
      "metadata": {
        "collapsed": false,
        "id": "0dXCzxVVgOnG"
      }
    },
    {
      "cell_type": "code",
      "execution_count": 28,
      "outputs": [
        {
          "output_type": "execute_result",
          "data": {
            "text/plain": [
              "                  I           Iu         Imax      Entropy    BasketNum  \\\n",
              "count   5878.000000  5878.000000  5878.000000  5878.000000  5878.000000   \n",
              "mean     137.044743    81.989112    35.621470     3.693652     6.289384   \n",
              "std      353.818629   116.484552    34.142473     1.397080    13.009406   \n",
              "min        1.000000     1.000000     1.000000     0.000000     1.000000   \n",
              "25%       21.000000    19.000000    14.000000     2.815741     1.000000   \n",
              "50%       53.000000    45.000000    26.000000     3.711224     3.000000   \n",
              "75%      142.000000   103.000000    46.000000     4.652588     7.000000   \n",
              "max    12890.000000  2550.000000   542.000000     8.900277   398.000000   \n",
              "\n",
              "              SumExp        AvgExp  \n",
              "count    5878.000000   5878.000000  \n",
              "mean     3018.616737    391.726538  \n",
              "std     14737.731040   1215.071054  \n",
              "min         2.950000      2.950000  \n",
              "25%       348.762500    181.652500  \n",
              "50%       898.915000    285.070500  \n",
              "75%      2307.090000    420.570000  \n",
              "max    608821.650000  84236.250000  "
            ],
            "text/html": [
              "\n",
              "  <div id=\"df-f05fb51f-4604-4530-bc9a-cfc3419f3786\" class=\"colab-df-container\">\n",
              "    <div>\n",
              "<style scoped>\n",
              "    .dataframe tbody tr th:only-of-type {\n",
              "        vertical-align: middle;\n",
              "    }\n",
              "\n",
              "    .dataframe tbody tr th {\n",
              "        vertical-align: top;\n",
              "    }\n",
              "\n",
              "    .dataframe thead th {\n",
              "        text-align: right;\n",
              "    }\n",
              "</style>\n",
              "<table border=\"1\" class=\"dataframe\">\n",
              "  <thead>\n",
              "    <tr style=\"text-align: right;\">\n",
              "      <th></th>\n",
              "      <th>I</th>\n",
              "      <th>Iu</th>\n",
              "      <th>Imax</th>\n",
              "      <th>Entropy</th>\n",
              "      <th>BasketNum</th>\n",
              "      <th>SumExp</th>\n",
              "      <th>AvgExp</th>\n",
              "    </tr>\n",
              "  </thead>\n",
              "  <tbody>\n",
              "    <tr>\n",
              "      <th>count</th>\n",
              "      <td>5878.000000</td>\n",
              "      <td>5878.000000</td>\n",
              "      <td>5878.000000</td>\n",
              "      <td>5878.000000</td>\n",
              "      <td>5878.000000</td>\n",
              "      <td>5878.000000</td>\n",
              "      <td>5878.000000</td>\n",
              "    </tr>\n",
              "    <tr>\n",
              "      <th>mean</th>\n",
              "      <td>137.044743</td>\n",
              "      <td>81.989112</td>\n",
              "      <td>35.621470</td>\n",
              "      <td>3.693652</td>\n",
              "      <td>6.289384</td>\n",
              "      <td>3018.616737</td>\n",
              "      <td>391.726538</td>\n",
              "    </tr>\n",
              "    <tr>\n",
              "      <th>std</th>\n",
              "      <td>353.818629</td>\n",
              "      <td>116.484552</td>\n",
              "      <td>34.142473</td>\n",
              "      <td>1.397080</td>\n",
              "      <td>13.009406</td>\n",
              "      <td>14737.731040</td>\n",
              "      <td>1215.071054</td>\n",
              "    </tr>\n",
              "    <tr>\n",
              "      <th>min</th>\n",
              "      <td>1.000000</td>\n",
              "      <td>1.000000</td>\n",
              "      <td>1.000000</td>\n",
              "      <td>0.000000</td>\n",
              "      <td>1.000000</td>\n",
              "      <td>2.950000</td>\n",
              "      <td>2.950000</td>\n",
              "    </tr>\n",
              "    <tr>\n",
              "      <th>25%</th>\n",
              "      <td>21.000000</td>\n",
              "      <td>19.000000</td>\n",
              "      <td>14.000000</td>\n",
              "      <td>2.815741</td>\n",
              "      <td>1.000000</td>\n",
              "      <td>348.762500</td>\n",
              "      <td>181.652500</td>\n",
              "    </tr>\n",
              "    <tr>\n",
              "      <th>50%</th>\n",
              "      <td>53.000000</td>\n",
              "      <td>45.000000</td>\n",
              "      <td>26.000000</td>\n",
              "      <td>3.711224</td>\n",
              "      <td>3.000000</td>\n",
              "      <td>898.915000</td>\n",
              "      <td>285.070500</td>\n",
              "    </tr>\n",
              "    <tr>\n",
              "      <th>75%</th>\n",
              "      <td>142.000000</td>\n",
              "      <td>103.000000</td>\n",
              "      <td>46.000000</td>\n",
              "      <td>4.652588</td>\n",
              "      <td>7.000000</td>\n",
              "      <td>2307.090000</td>\n",
              "      <td>420.570000</td>\n",
              "    </tr>\n",
              "    <tr>\n",
              "      <th>max</th>\n",
              "      <td>12890.000000</td>\n",
              "      <td>2550.000000</td>\n",
              "      <td>542.000000</td>\n",
              "      <td>8.900277</td>\n",
              "      <td>398.000000</td>\n",
              "      <td>608821.650000</td>\n",
              "      <td>84236.250000</td>\n",
              "    </tr>\n",
              "  </tbody>\n",
              "</table>\n",
              "</div>\n",
              "    <div class=\"colab-df-buttons\">\n",
              "\n",
              "  <div class=\"colab-df-container\">\n",
              "    <button class=\"colab-df-convert\" onclick=\"convertToInteractive('df-f05fb51f-4604-4530-bc9a-cfc3419f3786')\"\n",
              "            title=\"Convert this dataframe to an interactive table.\"\n",
              "            style=\"display:none;\">\n",
              "\n",
              "  <svg xmlns=\"http://www.w3.org/2000/svg\" height=\"24px\" viewBox=\"0 -960 960 960\">\n",
              "    <path d=\"M120-120v-720h720v720H120Zm60-500h600v-160H180v160Zm220 220h160v-160H400v160Zm0 220h160v-160H400v160ZM180-400h160v-160H180v160Zm440 0h160v-160H620v160ZM180-180h160v-160H180v160Zm440 0h160v-160H620v160Z\"/>\n",
              "  </svg>\n",
              "    </button>\n",
              "\n",
              "  <style>\n",
              "    .colab-df-container {\n",
              "      display:flex;\n",
              "      gap: 12px;\n",
              "    }\n",
              "\n",
              "    .colab-df-convert {\n",
              "      background-color: #E8F0FE;\n",
              "      border: none;\n",
              "      border-radius: 50%;\n",
              "      cursor: pointer;\n",
              "      display: none;\n",
              "      fill: #1967D2;\n",
              "      height: 32px;\n",
              "      padding: 0 0 0 0;\n",
              "      width: 32px;\n",
              "    }\n",
              "\n",
              "    .colab-df-convert:hover {\n",
              "      background-color: #E2EBFA;\n",
              "      box-shadow: 0px 1px 2px rgba(60, 64, 67, 0.3), 0px 1px 3px 1px rgba(60, 64, 67, 0.15);\n",
              "      fill: #174EA6;\n",
              "    }\n",
              "\n",
              "    .colab-df-buttons div {\n",
              "      margin-bottom: 4px;\n",
              "    }\n",
              "\n",
              "    [theme=dark] .colab-df-convert {\n",
              "      background-color: #3B4455;\n",
              "      fill: #D2E3FC;\n",
              "    }\n",
              "\n",
              "    [theme=dark] .colab-df-convert:hover {\n",
              "      background-color: #434B5C;\n",
              "      box-shadow: 0px 1px 3px 1px rgba(0, 0, 0, 0.15);\n",
              "      filter: drop-shadow(0px 1px 2px rgba(0, 0, 0, 0.3));\n",
              "      fill: #FFFFFF;\n",
              "    }\n",
              "  </style>\n",
              "\n",
              "    <script>\n",
              "      const buttonEl =\n",
              "        document.querySelector('#df-f05fb51f-4604-4530-bc9a-cfc3419f3786 button.colab-df-convert');\n",
              "      buttonEl.style.display =\n",
              "        google.colab.kernel.accessAllowed ? 'block' : 'none';\n",
              "\n",
              "      async function convertToInteractive(key) {\n",
              "        const element = document.querySelector('#df-f05fb51f-4604-4530-bc9a-cfc3419f3786');\n",
              "        const dataTable =\n",
              "          await google.colab.kernel.invokeFunction('convertToInteractive',\n",
              "                                                    [key], {});\n",
              "        if (!dataTable) return;\n",
              "\n",
              "        const docLinkHtml = 'Like what you see? Visit the ' +\n",
              "          '<a target=\"_blank\" href=https://colab.research.google.com/notebooks/data_table.ipynb>data table notebook</a>'\n",
              "          + ' to learn more about interactive tables.';\n",
              "        element.innerHTML = '';\n",
              "        dataTable['output_type'] = 'display_data';\n",
              "        await google.colab.output.renderOutput(dataTable, element);\n",
              "        const docLink = document.createElement('div');\n",
              "        docLink.innerHTML = docLinkHtml;\n",
              "        element.appendChild(docLink);\n",
              "      }\n",
              "    </script>\n",
              "  </div>\n",
              "\n",
              "\n",
              "<div id=\"df-4f4370d7-bf46-4f0c-9ae5-a0468fa59450\">\n",
              "  <button class=\"colab-df-quickchart\" onclick=\"quickchart('df-4f4370d7-bf46-4f0c-9ae5-a0468fa59450')\"\n",
              "            title=\"Suggest charts\"\n",
              "            style=\"display:none;\">\n",
              "\n",
              "<svg xmlns=\"http://www.w3.org/2000/svg\" height=\"24px\"viewBox=\"0 0 24 24\"\n",
              "     width=\"24px\">\n",
              "    <g>\n",
              "        <path d=\"M19 3H5c-1.1 0-2 .9-2 2v14c0 1.1.9 2 2 2h14c1.1 0 2-.9 2-2V5c0-1.1-.9-2-2-2zM9 17H7v-7h2v7zm4 0h-2V7h2v10zm4 0h-2v-4h2v4z\"/>\n",
              "    </g>\n",
              "</svg>\n",
              "  </button>\n",
              "\n",
              "<style>\n",
              "  .colab-df-quickchart {\n",
              "      --bg-color: #E8F0FE;\n",
              "      --fill-color: #1967D2;\n",
              "      --hover-bg-color: #E2EBFA;\n",
              "      --hover-fill-color: #174EA6;\n",
              "      --disabled-fill-color: #AAA;\n",
              "      --disabled-bg-color: #DDD;\n",
              "  }\n",
              "\n",
              "  [theme=dark] .colab-df-quickchart {\n",
              "      --bg-color: #3B4455;\n",
              "      --fill-color: #D2E3FC;\n",
              "      --hover-bg-color: #434B5C;\n",
              "      --hover-fill-color: #FFFFFF;\n",
              "      --disabled-bg-color: #3B4455;\n",
              "      --disabled-fill-color: #666;\n",
              "  }\n",
              "\n",
              "  .colab-df-quickchart {\n",
              "    background-color: var(--bg-color);\n",
              "    border: none;\n",
              "    border-radius: 50%;\n",
              "    cursor: pointer;\n",
              "    display: none;\n",
              "    fill: var(--fill-color);\n",
              "    height: 32px;\n",
              "    padding: 0;\n",
              "    width: 32px;\n",
              "  }\n",
              "\n",
              "  .colab-df-quickchart:hover {\n",
              "    background-color: var(--hover-bg-color);\n",
              "    box-shadow: 0 1px 2px rgba(60, 64, 67, 0.3), 0 1px 3px 1px rgba(60, 64, 67, 0.15);\n",
              "    fill: var(--button-hover-fill-color);\n",
              "  }\n",
              "\n",
              "  .colab-df-quickchart-complete:disabled,\n",
              "  .colab-df-quickchart-complete:disabled:hover {\n",
              "    background-color: var(--disabled-bg-color);\n",
              "    fill: var(--disabled-fill-color);\n",
              "    box-shadow: none;\n",
              "  }\n",
              "\n",
              "  .colab-df-spinner {\n",
              "    border: 2px solid var(--fill-color);\n",
              "    border-color: transparent;\n",
              "    border-bottom-color: var(--fill-color);\n",
              "    animation:\n",
              "      spin 1s steps(1) infinite;\n",
              "  }\n",
              "\n",
              "  @keyframes spin {\n",
              "    0% {\n",
              "      border-color: transparent;\n",
              "      border-bottom-color: var(--fill-color);\n",
              "      border-left-color: var(--fill-color);\n",
              "    }\n",
              "    20% {\n",
              "      border-color: transparent;\n",
              "      border-left-color: var(--fill-color);\n",
              "      border-top-color: var(--fill-color);\n",
              "    }\n",
              "    30% {\n",
              "      border-color: transparent;\n",
              "      border-left-color: var(--fill-color);\n",
              "      border-top-color: var(--fill-color);\n",
              "      border-right-color: var(--fill-color);\n",
              "    }\n",
              "    40% {\n",
              "      border-color: transparent;\n",
              "      border-right-color: var(--fill-color);\n",
              "      border-top-color: var(--fill-color);\n",
              "    }\n",
              "    60% {\n",
              "      border-color: transparent;\n",
              "      border-right-color: var(--fill-color);\n",
              "    }\n",
              "    80% {\n",
              "      border-color: transparent;\n",
              "      border-right-color: var(--fill-color);\n",
              "      border-bottom-color: var(--fill-color);\n",
              "    }\n",
              "    90% {\n",
              "      border-color: transparent;\n",
              "      border-bottom-color: var(--fill-color);\n",
              "    }\n",
              "  }\n",
              "</style>\n",
              "\n",
              "  <script>\n",
              "    async function quickchart(key) {\n",
              "      const quickchartButtonEl =\n",
              "        document.querySelector('#' + key + ' button');\n",
              "      quickchartButtonEl.disabled = true;  // To prevent multiple clicks.\n",
              "      quickchartButtonEl.classList.add('colab-df-spinner');\n",
              "      try {\n",
              "        const charts = await google.colab.kernel.invokeFunction(\n",
              "            'suggestCharts', [key], {});\n",
              "      } catch (error) {\n",
              "        console.error('Error during call to suggestCharts:', error);\n",
              "      }\n",
              "      quickchartButtonEl.classList.remove('colab-df-spinner');\n",
              "      quickchartButtonEl.classList.add('colab-df-quickchart-complete');\n",
              "    }\n",
              "    (() => {\n",
              "      let quickchartButtonEl =\n",
              "        document.querySelector('#df-4f4370d7-bf46-4f0c-9ae5-a0468fa59450 button');\n",
              "      quickchartButtonEl.style.display =\n",
              "        google.colab.kernel.accessAllowed ? 'block' : 'none';\n",
              "    })();\n",
              "  </script>\n",
              "</div>\n",
              "\n",
              "    </div>\n",
              "  </div>\n"
            ],
            "application/vnd.google.colaboratory.intrinsic+json": {
              "type": "dataframe",
              "summary": "{\n  \"name\": \"df_customer\",\n  \"rows\": 8,\n  \"fields\": [\n    {\n      \"column\": \"I\",\n      \"properties\": {\n        \"dtype\": \"number\",\n        \"std\": 4682.134908706612,\n        \"min\": 1.0,\n        \"max\": 12890.0,\n        \"num_unique_values\": 8,\n        \"samples\": [\n          137.04474310990133,\n          53.0,\n          5878.0\n        ],\n        \"semantic_type\": \"\",\n        \"description\": \"\"\n      }\n    },\n    {\n      \"column\": \"Iu\",\n      \"properties\": {\n        \"dtype\": \"number\",\n        \"std\": 2118.5852754939338,\n        \"min\": 1.0,\n        \"max\": 5878.0,\n        \"num_unique_values\": 8,\n        \"samples\": [\n          81.9891119428377,\n          45.0,\n          5878.0\n        ],\n        \"semantic_type\": \"\",\n        \"description\": \"\"\n      }\n    },\n    {\n      \"column\": \"Imax\",\n      \"properties\": {\n        \"dtype\": \"number\",\n        \"std\": 2050.9002762545433,\n        \"min\": 1.0,\n        \"max\": 5878.0,\n        \"num_unique_values\": 8,\n        \"samples\": [\n          35.62146988771691,\n          26.0,\n          5878.0\n        ],\n        \"semantic_type\": \"\",\n        \"description\": \"\"\n      }\n    },\n    {\n      \"column\": \"Entropy\",\n      \"properties\": {\n        \"dtype\": \"number\",\n        \"std\": 2076.9171633328865,\n        \"min\": 0.0,\n        \"max\": 5878.0,\n        \"num_unique_values\": 8,\n        \"samples\": [\n          3.6936518768193314,\n          3.711223836574383,\n          5878.0\n        ],\n        \"semantic_type\": \"\",\n        \"description\": \"\"\n      }\n    },\n    {\n      \"column\": \"BasketNum\",\n      \"properties\": {\n        \"dtype\": \"number\",\n        \"std\": 2061.095566775124,\n        \"min\": 1.0,\n        \"max\": 5878.0,\n        \"num_unique_values\": 7,\n        \"samples\": [\n          5878.0,\n          6.289384144266758,\n          7.0\n        ],\n        \"semantic_type\": \"\",\n        \"description\": \"\"\n      }\n    },\n    {\n      \"column\": \"SumExp\",\n      \"properties\": {\n        \"dtype\": \"number\",\n        \"std\": 213931.47659935564,\n        \"min\": 2.95,\n        \"max\": 608821.65,\n        \"num_unique_values\": 8,\n        \"samples\": [\n          3018.6167366451173,\n          898.915,\n          5878.0\n        ],\n        \"semantic_type\": \"\",\n        \"description\": \"\"\n      }\n    },\n    {\n      \"column\": \"AvgExp\",\n      \"properties\": {\n        \"dtype\": \"number\",\n        \"std\": 29423.2932577705,\n        \"min\": 2.95,\n        \"max\": 84236.25,\n        \"num_unique_values\": 8,\n        \"samples\": [\n          391.7265378361035,\n          285.07050000000004,\n          5878.0\n        ],\n        \"semantic_type\": \"\",\n        \"description\": \"\"\n      }\n    }\n  ]\n}"
            }
          },
          "metadata": {},
          "execution_count": 28
        }
      ],
      "source": [
        "df_customer.describe()"
      ],
      "metadata": {
        "pycharm": {
          "name": "#%%\n"
        },
        "colab": {
          "base_uri": "https://localhost:8080/",
          "height": 300
        },
        "id": "2uokGNe7gOnG",
        "outputId": "7a5f2bfe-7bcc-44f1-a523-ba29f5c2570f"
      }
    },
    {
      "cell_type": "code",
      "execution_count": 29,
      "outputs": [
        {
          "output_type": "execute_result",
          "data": {
            "text/plain": [
              "<Axes: >"
            ]
          },
          "metadata": {},
          "execution_count": 29
        },
        {
          "output_type": "display_data",
          "data": {
            "text/plain": [
              "<Figure size 640x480 with 1 Axes>"
            ],
            "image/png": "[encoded data removed]"
          },
          "metadata": {}
        }
      ],
      "source": [
        "df_customer.boxplot()"
      ],
      "metadata": {
        "pycharm": {
          "name": "#%%\n"
        },
        "colab": {
          "base_uri": "https://localhost:8080/",
          "height": 452
        },
        "id": "gbyHX8pmgOnG",
        "outputId": "3a780e0f-3eac-4409-e073-6f2dd7a062ad"
      }
    },
    {
      "cell_type": "markdown",
      "source": [
        "## Remove outliers from the new dataset\n",
        "We exploited the metric of Z-Score."
      ],
      "metadata": {
        "collapsed": false,
        "id": "fQ4-bb6rgOnH"
      }
    },
    {
      "cell_type": "code",
      "execution_count": 30,
      "outputs": [
        {
          "output_type": "execute_result",
          "data": {
            "text/plain": [
              "                 I           Iu         Imax      Entropy  BasketNum  \\\n",
              "count  5649.000000  5649.000000  5649.000000  5649.000000  5649.0000   \n",
              "mean    102.020358    69.296336    32.169056     3.604023     5.0963   \n",
              "std     136.359323    75.090363    26.061466     1.323462     6.0061   \n",
              "min       1.000000     1.000000     1.000000     0.000000     1.0000   \n",
              "25%      20.000000    18.000000    14.000000     2.766149     1.0000   \n",
              "50%      50.000000    42.000000    25.000000     3.654018     3.0000   \n",
              "75%     126.000000    93.000000    43.000000     4.547036     6.0000   \n",
              "max    1132.000000   431.000000   138.000000     6.907336    45.0000   \n",
              "\n",
              "             SumExp       AvgExp  \n",
              "count   5649.000000  5649.000000  \n",
              "mean    1932.125549   343.945401  \n",
              "std     3330.195153   288.271945  \n",
              "min        2.950000     2.950000  \n",
              "25%      335.320000   178.200000  \n",
              "50%      831.450000   279.129091  \n",
              "75%     2062.670000   409.945833  \n",
              "max    45179.100000  3861.000000  "
            ],
            "text/html": [
              "\n",
              "  <div id=\"df-9616700f-41b1-4f91-bd2e-888724739af3\" class=\"colab-df-container\">\n",
              "    <div>\n",
              "<style scoped>\n",
              "    .dataframe tbody tr th:only-of-type {\n",
              "        vertical-align: middle;\n",
              "    }\n",
              "\n",
              "    .dataframe tbody tr th {\n",
              "        vertical-align: top;\n",
              "    }\n",
              "\n",
              "    .dataframe thead th {\n",
              "        text-align: right;\n",
              "    }\n",
              "</style>\n",
              "<table border=\"1\" class=\"dataframe\">\n",
              "  <thead>\n",
              "    <tr style=\"text-align: right;\">\n",
              "      <th></th>\n",
              "      <th>I</th>\n",
              "      <th>Iu</th>\n",
              "      <th>Imax</th>\n",
              "      <th>Entropy</th>\n",
              "      <th>BasketNum</th>\n",
              "      <th>SumExp</th>\n",
              "      <th>AvgExp</th>\n",
              "    </tr>\n",
              "  </thead>\n",
              "  <tbody>\n",
              "    <tr>\n",
              "      <th>count</th>\n",
              "      <td>5649.000000</td>\n",
              "      <td>5649.000000</td>\n",
              "      <td>5649.000000</td>\n",
              "      <td>5649.000000</td>\n",
              "      <td>5649.0000</td>\n",
              "      <td>5649.000000</td>\n",
              "      <td>5649.000000</td>\n",
              "    </tr>\n",
              "    <tr>\n",
              "      <th>mean</th>\n",
              "      <td>102.020358</td>\n",
              "      <td>69.296336</td>\n",
              "      <td>32.169056</td>\n",
              "      <td>3.604023</td>\n",
              "      <td>5.0963</td>\n",
              "      <td>1932.125549</td>\n",
              "      <td>343.945401</td>\n",
              "    </tr>\n",
              "    <tr>\n",
              "      <th>std</th>\n",
              "      <td>136.359323</td>\n",
              "      <td>75.090363</td>\n",
              "      <td>26.061466</td>\n",
              "      <td>1.323462</td>\n",
              "      <td>6.0061</td>\n",
              "      <td>3330.195153</td>\n",
              "      <td>288.271945</td>\n",
              "    </tr>\n",
              "    <tr>\n",
              "      <th>min</th>\n",
              "      <td>1.000000</td>\n",
              "      <td>1.000000</td>\n",
              "      <td>1.000000</td>\n",
              "      <td>0.000000</td>\n",
              "      <td>1.0000</td>\n",
              "      <td>2.950000</td>\n",
              "      <td>2.950000</td>\n",
              "    </tr>\n",
              "    <tr>\n",
              "      <th>25%</th>\n",
              "      <td>20.000000</td>\n",
              "      <td>18.000000</td>\n",
              "      <td>14.000000</td>\n",
              "      <td>2.766149</td>\n",
              "      <td>1.0000</td>\n",
              "      <td>335.320000</td>\n",
              "      <td>178.200000</td>\n",
              "    </tr>\n",
              "    <tr>\n",
              "      <th>50%</th>\n",
              "      <td>50.000000</td>\n",
              "      <td>42.000000</td>\n",
              "      <td>25.000000</td>\n",
              "      <td>3.654018</td>\n",
              "      <td>3.0000</td>\n",
              "      <td>831.450000</td>\n",
              "      <td>279.129091</td>\n",
              "    </tr>\n",
              "    <tr>\n",
              "      <th>75%</th>\n",
              "      <td>126.000000</td>\n",
              "      <td>93.000000</td>\n",
              "      <td>43.000000</td>\n",
              "      <td>4.547036</td>\n",
              "      <td>6.0000</td>\n",
              "      <td>2062.670000</td>\n",
              "      <td>409.945833</td>\n",
              "    </tr>\n",
              "    <tr>\n",
              "      <th>max</th>\n",
              "      <td>1132.000000</td>\n",
              "      <td>431.000000</td>\n",
              "      <td>138.000000</td>\n",
              "      <td>6.907336</td>\n",
              "      <td>45.0000</td>\n",
              "      <td>45179.100000</td>\n",
              "      <td>3861.000000</td>\n",
              "    </tr>\n",
              "  </tbody>\n",
              "</table>\n",
              "</div>\n",
              "    <div class=\"colab-df-buttons\">\n",
              "\n",
              "  <div class=\"colab-df-container\">\n",
              "    <button class=\"colab-df-convert\" onclick=\"convertToInteractive('df-9616700f-41b1-4f91-bd2e-888724739af3')\"\n",
              "            title=\"Convert this dataframe to an interactive table.\"\n",
              "            style=\"display:none;\">\n",
              "\n",
              "  <svg xmlns=\"http://www.w3.org/2000/svg\" height=\"24px\" viewBox=\"0 -960 960 960\">\n",
              "    <path d=\"M120-120v-720h720v720H120Zm60-500h600v-160H180v160Zm220 220h160v-160H400v160Zm0 220h160v-160H400v160ZM180-400h160v-160H180v160Zm440 0h160v-160H620v160ZM180-180h160v-160H180v160Zm440 0h160v-160H620v160Z\"/>\n",
              "  </svg>\n",
              "    </button>\n",
              "\n",
              "  <style>\n",
              "    .colab-df-container {\n",
              "      display:flex;\n",
              "      gap: 12px;\n",
              "    }\n",
              "\n",
              "    .colab-df-convert {\n",
              "      background-color: #E8F0FE;\n",
              "      border: none;\n",
              "      border-radius: 50%;\n",
              "      cursor: pointer;\n",
              "      display: none;\n",
              "      fill: #1967D2;\n",
              "      height: 32px;\n",
              "      padding: 0 0 0 0;\n",
              "      width: 32px;\n",
              "    }\n",
              "\n",
              "    .colab-df-convert:hover {\n",
              "      background-color: #E2EBFA;\n",
              "      box-shadow: 0px 1px 2px rgba(60, 64, 67, 0.3), 0px 1px 3px 1px rgba(60, 64, 67, 0.15);\n",
              "      fill: #174EA6;\n",
              "    }\n",
              "\n",
              "    .colab-df-buttons div {\n",
              "      margin-bottom: 4px;\n",
              "    }\n",
              "\n",
              "    [theme=dark] .colab-df-convert {\n",
              "      background-color: #3B4455;\n",
              "      fill: #D2E3FC;\n",
              "    }\n",
              "\n",
              "    [theme=dark] .colab-df-convert:hover {\n",
              "      background-color: #434B5C;\n",
              "      box-shadow: 0px 1px 3px 1px rgba(0, 0, 0, 0.15);\n",
              "      filter: drop-shadow(0px 1px 2px rgba(0, 0, 0, 0.3));\n",
              "      fill: #FFFFFF;\n",
              "    }\n",
              "  </style>\n",
              "\n",
              "    <script>\n",
              "      const buttonEl =\n",
              "        document.querySelector('#df-9616700f-41b1-4f91-bd2e-888724739af3 button.colab-df-convert');\n",
              "      buttonEl.style.display =\n",
              "        google.colab.kernel.accessAllowed ? 'block' : 'none';\n",
              "\n",
              "      async function convertToInteractive(key) {\n",
              "        const element = document.querySelector('#df-9616700f-41b1-4f91-bd2e-888724739af3');\n",
              "        const dataTable =\n",
              "          await google.colab.kernel.invokeFunction('convertToInteractive',\n",
              "                                                    [key], {});\n",
              "        if (!dataTable) return;\n",
              "\n",
              "        const docLinkHtml = 'Like what you see? Visit the ' +\n",
              "          '<a target=\"_blank\" href=https://colab.research.google.com/notebooks/data_table.ipynb>data table notebook</a>'\n",
              "          + ' to learn more about interactive tables.';\n",
              "        element.innerHTML = '';\n",
              "        dataTable['output_type'] = 'display_data';\n",
              "        await google.colab.output.renderOutput(dataTable, element);\n",
              "        const docLink = document.createElement('div');\n",
              "        docLink.innerHTML = docLinkHtml;\n",
              "        element.appendChild(docLink);\n",
              "      }\n",
              "    </script>\n",
              "  </div>\n",
              "\n",
              "\n",
              "<div id=\"df-f1c7fdbf-90c9-484f-9e53-6c6067a13846\">\n",
              "  <button class=\"colab-df-quickchart\" onclick=\"quickchart('df-f1c7fdbf-90c9-484f-9e53-6c6067a13846')\"\n",
              "            title=\"Suggest charts\"\n",
              "            style=\"display:none;\">\n",
              "\n",
              "<svg xmlns=\"http://www.w3.org/2000/svg\" height=\"24px\"viewBox=\"0 0 24 24\"\n",
              "     width=\"24px\">\n",
              "    <g>\n",
              "        <path d=\"M19 3H5c-1.1 0-2 .9-2 2v14c0 1.1.9 2 2 2h14c1.1 0 2-.9 2-2V5c0-1.1-.9-2-2-2zM9 17H7v-7h2v7zm4 0h-2V7h2v10zm4 0h-2v-4h2v4z\"/>\n",
              "    </g>\n",
              "</svg>\n",
              "  </button>\n",
              "\n",
              "<style>\n",
              "  .colab-df-quickchart {\n",
              "      --bg-color: #E8F0FE;\n",
              "      --fill-color: #1967D2;\n",
              "      --hover-bg-color: #E2EBFA;\n",
              "      --hover-fill-color: #174EA6;\n",
              "      --disabled-fill-color: #AAA;\n",
              "      --disabled-bg-color: #DDD;\n",
              "  }\n",
              "\n",
              "  [theme=dark] .colab-df-quickchart {\n",
              "      --bg-color: #3B4455;\n",
              "      --fill-color: #D2E3FC;\n",
              "      --hover-bg-color: #434B5C;\n",
              "      --hover-fill-color: #FFFFFF;\n",
              "      --disabled-bg-color: #3B4455;\n",
              "      --disabled-fill-color: #666;\n",
              "  }\n",
              "\n",
              "  .colab-df-quickchart {\n",
              "    background-color: var(--bg-color);\n",
              "    border: none;\n",
              "    border-radius: 50%;\n",
              "    cursor: pointer;\n",
              "    display: none;\n",
              "    fill: var(--fill-color);\n",
              "    height: 32px;\n",
              "    padding: 0;\n",
              "    width: 32px;\n",
              "  }\n",
              "\n",
              "  .colab-df-quickchart:hover {\n",
              "    background-color: var(--hover-bg-color);\n",
              "    box-shadow: 0 1px 2px rgba(60, 64, 67, 0.3), 0 1px 3px 1px rgba(60, 64, 67, 0.15);\n",
              "    fill: var(--button-hover-fill-color);\n",
              "  }\n",
              "\n",
              "  .colab-df-quickchart-complete:disabled,\n",
              "  .colab-df-quickchart-complete:disabled:hover {\n",
              "    background-color: var(--disabled-bg-color);\n",
              "    fill: var(--disabled-fill-color);\n",
              "    box-shadow: none;\n",
              "  }\n",
              "\n",
              "  .colab-df-spinner {\n",
              "    border: 2px solid var(--fill-color);\n",
              "    border-color: transparent;\n",
              "    border-bottom-color: var(--fill-color);\n",
              "    animation:\n",
              "      spin 1s steps(1) infinite;\n",
              "  }\n",
              "\n",
              "  @keyframes spin {\n",
              "    0% {\n",
              "      border-color: transparent;\n",
              "      border-bottom-color: var(--fill-color);\n",
              "      border-left-color: var(--fill-color);\n",
              "    }\n",
              "    20% {\n",
              "      border-color: transparent;\n",
              "      border-left-color: var(--fill-color);\n",
              "      border-top-color: var(--fill-color);\n",
              "    }\n",
              "    30% {\n",
              "      border-color: transparent;\n",
              "      border-left-color: var(--fill-color);\n",
              "      border-top-color: var(--fill-color);\n",
              "      border-right-color: var(--fill-color);\n",
              "    }\n",
              "    40% {\n",
              "      border-color: transparent;\n",
              "      border-right-color: var(--fill-color);\n",
              "      border-top-color: var(--fill-color);\n",
              "    }\n",
              "    60% {\n",
              "      border-color: transparent;\n",
              "      border-right-color: var(--fill-color);\n",
              "    }\n",
              "    80% {\n",
              "      border-color: transparent;\n",
              "      border-right-color: var(--fill-color);\n",
              "      border-bottom-color: var(--fill-color);\n",
              "    }\n",
              "    90% {\n",
              "      border-color: transparent;\n",
              "      border-bottom-color: var(--fill-color);\n",
              "    }\n",
              "  }\n",
              "</style>\n",
              "\n",
              "  <script>\n",
              "    async function quickchart(key) {\n",
              "      const quickchartButtonEl =\n",
              "        document.querySelector('#' + key + ' button');\n",
              "      quickchartButtonEl.disabled = true;  // To prevent multiple clicks.\n",
              "      quickchartButtonEl.classList.add('colab-df-spinner');\n",
              "      try {\n",
              "        const charts = await google.colab.kernel.invokeFunction(\n",
              "            'suggestCharts', [key], {});\n",
              "      } catch (error) {\n",
              "        console.error('Error during call to suggestCharts:', error);\n",
              "      }\n",
              "      quickchartButtonEl.classList.remove('colab-df-spinner');\n",
              "      quickchartButtonEl.classList.add('colab-df-quickchart-complete');\n",
              "    }\n",
              "    (() => {\n",
              "      let quickchartButtonEl =\n",
              "        document.querySelector('#df-f1c7fdbf-90c9-484f-9e53-6c6067a13846 button');\n",
              "      quickchartButtonEl.style.display =\n",
              "        google.colab.kernel.accessAllowed ? 'block' : 'none';\n",
              "    })();\n",
              "  </script>\n",
              "</div>\n",
              "\n",
              "    </div>\n",
              "  </div>\n"
            ],
            "application/vnd.google.colaboratory.intrinsic+json": {
              "type": "dataframe",
              "summary": "{\n  \"name\": \"new_df\",\n  \"rows\": 8,\n  \"fields\": [\n    {\n      \"column\": \"I\",\n      \"properties\": {\n        \"dtype\": \"number\",\n        \"std\": 1954.1489582503784,\n        \"min\": 1.0,\n        \"max\": 5649.0,\n        \"num_unique_values\": 8,\n        \"samples\": [\n          102.02035758541335,\n          50.0,\n          5649.0\n        ],\n        \"semantic_type\": \"\",\n        \"description\": \"\"\n      }\n    },\n    {\n      \"column\": \"Iu\",\n      \"properties\": {\n        \"dtype\": \"number\",\n        \"std\": 1965.1486106872724,\n        \"min\": 1.0,\n        \"max\": 5649.0,\n        \"num_unique_values\": 8,\n        \"samples\": [\n          69.29633563462559,\n          42.0,\n          5649.0\n        ],\n        \"semantic_type\": \"\",\n        \"description\": \"\"\n      }\n    },\n    {\n      \"column\": \"Imax\",\n      \"properties\": {\n        \"dtype\": \"number\",\n        \"std\": 1983.5624664359675,\n        \"min\": 1.0,\n        \"max\": 5649.0,\n        \"num_unique_values\": 8,\n        \"samples\": [\n          32.16905647017171,\n          25.0,\n          5649.0\n        ],\n        \"semantic_type\": \"\",\n        \"description\": \"\"\n      }\n    },\n    {\n      \"column\": \"Entropy\",\n      \"properties\": {\n        \"dtype\": \"number\",\n        \"std\": 1996.0724956632998,\n        \"min\": 0.0,\n        \"max\": 5649.0,\n        \"num_unique_values\": 8,\n        \"samples\": [\n          3.604022798179255,\n          3.6540181174503212,\n          5649.0\n        ],\n        \"semantic_type\": \"\",\n        \"description\": \"\"\n      }\n    },\n    {\n      \"column\": \"BasketNum\",\n      \"properties\": {\n        \"dtype\": \"number\",\n        \"std\": 1993.8873271979091,\n        \"min\": 1.0,\n        \"max\": 5649.0,\n        \"num_unique_values\": 7,\n        \"samples\": [\n          5649.0,\n          5.096300230129226,\n          6.0\n        ],\n        \"semantic_type\": \"\",\n        \"description\": \"\"\n      }\n    },\n    {\n      \"column\": \"SumExp\",\n      \"properties\": {\n        \"dtype\": \"number\",\n        \"std\": 15367.14709021138,\n        \"min\": 2.95,\n        \"max\": 45179.1,\n        \"num_unique_values\": 8,\n        \"samples\": [\n          1932.1255489467162,\n          831.4499999999999,\n          5649.0\n        ],\n        \"semantic_type\": \"\",\n        \"description\": \"\"\n      }\n    },\n    {\n      \"column\": \"AvgExp\",\n      \"properties\": {\n        \"dtype\": \"number\",\n        \"std\": 2142.7091708601224,\n        \"min\": 2.95,\n        \"max\": 5649.0,\n        \"num_unique_values\": 8,\n        \"samples\": [\n          343.9454011429868,\n          279.1290909090909,\n          5649.0\n        ],\n        \"semantic_type\": \"\",\n        \"description\": \"\"\n      }\n    }\n  ]\n}"
            }
          },
          "metadata": {},
          "execution_count": 30
        }
      ],
      "source": [
        "# use z-score to remove outliers\n",
        "from scipy.stats import zscore\n",
        "z_scores = zscore(df_customer)\n",
        "\n",
        "abs_z_scores = np.abs(z_scores)\n",
        "filtered_entries = (abs_z_scores < 3).all(axis=1)\n",
        "new_df = df_customer[filtered_entries]\n",
        "\n",
        "new_df.to_csv(r'/content/new_df.csv', index=True, header=True)\n",
        "\n",
        "new_df.describe()"
      ],
      "metadata": {
        "pycharm": {
          "name": "#%%\n"
        },
        "colab": {
          "base_uri": "https://localhost:8080/",
          "height": 300
        },
        "id": "qI41toe0gOnH",
        "outputId": "f4245fbc-c60e-4090-e561-19b4bf750757"
      }
    },
    {
      "cell_type": "code",
      "execution_count": 32,
      "outputs": [
        {
          "output_type": "execute_result",
          "data": {
            "text/plain": [
              "<Axes: >"
            ]
          },
          "metadata": {},
          "execution_count": 32
        },
        {
          "output_type": "display_data",
          "data": {
            "text/plain": [
              "<Figure size 900x900 with 2 Axes>"
            ],
            "image/png": "[encoded data removed]"
          },
          "metadata": {}
        }
      ],
      "source": [
        "correlation = new_df.corr()\n",
        "sns.set(style=\"white\")\n",
        "\n",
        "# Generate a mask for the upper triangle\n",
        "mask = np.zeros_like(correlation, dtype=np.bool_)\n",
        "mask[np.triu_indices_from(mask)] = True\n",
        "\n",
        "# Set up the matplotlib figure\n",
        "fnew, axnew = plt.subplots(figsize=(9,9))\n",
        "\n",
        "# Generate a custom diverging colormap\n",
        "cmap = sns.diverging_palette(220, 10, as_cmap=True)\n",
        "\n",
        "# Draw the heatmap with the mask and correct aspect ratio\n",
        "sns.heatmap(correlation, mask=mask, cmap=cmap,annot=True, vmax=1,vmin=-1, center=0,\n",
        "            square=True, linewidths=0.5, cbar_kws={\"shrink\": 0.5})"
      ],
      "metadata": {
        "pycharm": {
          "name": "#%%\n"
        },
        "colab": {
          "base_uri": "https://localhost:8080/",
          "height": 641
        },
        "id": "iTsUjJujgOnH",
        "outputId": "a76a56e7-434e-4de4-afe0-dee82df47a81"
      }
    }
  ],
  "metadata": {
    "kernelspec": {
      "display_name": "Python 3",
      "name": "python3"
    },
    "language_info": {
      "codemirror_mode": {
        "name": "ipython",
        "version": 2
      },
      "file_extension": ".py",
      "mimetype": "text/x-python",
      "name": "python",
      "nbconvert_exporter": "python",
      "pygments_lexer": "ipython2",
      "version": "2.7.6"
    },
    "colab": {
      "provenance": [],
      "gpuType": "T4"
    },
    "accelerator": "GPU"
  },
  "nbformat": 4,
  "nbformat_minor": 0
}